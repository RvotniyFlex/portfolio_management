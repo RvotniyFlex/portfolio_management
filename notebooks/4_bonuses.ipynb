{
 "cells": [
  {
   "cell_type": "code",
   "execution_count": 1,
   "metadata": {},
   "outputs": [],
   "source": [
    "import os\n",
    "os.chdir(\"..\")\n",
    "#!pip install -r requirements.txt"
   ]
  },
  {
   "cell_type": "markdown",
   "metadata": {},
   "source": [
    "### Библиотеки"
   ]
  },
  {
   "cell_type": "code",
   "execution_count": 15,
   "metadata": {},
   "outputs": [],
   "source": [
    "import boto3\n",
    "# from dotenv import dotenv_values\n",
    "import pandas as pd\n",
    "from io import StringIO\n",
    "import numpy as np\n",
    "from tqdm.notebook import tqdm\n",
    "\n",
    "\n",
    "import matplotlib.pyplot as plt\n",
    "import seaborn as sns\n",
    "%config InlineBackend.figure_format='retina'\n",
    "sns.set_style(\"darkgrid\")\n",
    "\n",
    "from scipy.optimize import minimize, Bounds, NonlinearConstraint\n",
    "from portfolio_analytics.covariances import rolling_covariance_with_step, expanding_covariance_with_step\n",
    "\n",
    "from portfolio_analytics.optimizer import Optimizer, OptimizerIS\n",
    "from portfolio_analytics.utils import plot_efficient_frontier_curve\n",
    "\n",
    "import warnings\n",
    "warnings.filterwarnings('ignore')\n",
    "\n",
    "# config = dotenv_values(\".env\")"
   ]
  },
  {
   "cell_type": "markdown",
   "metadata": {},
   "source": [
    "### Данные с S3"
   ]
  },
  {
   "cell_type": "code",
   "execution_count": 7,
   "metadata": {},
   "outputs": [],
   "source": [
    "session = boto3.session.Session()\n",
    "s3 = session.client(\n",
    "    service_name='s3',\n",
    "    # endpoint_url='https://storage.yandexcloud.net',\n",
    "    # aws_access_key_id = config['s3_aws_access_key_id'],\n",
    "    # aws_secret_access_key = config['s3_aws_secret_access_key']\n",
    ")"
   ]
  },
  {
   "cell_type": "code",
   "execution_count": 8,
   "metadata": {},
   "outputs": [
    {
     "data": {
      "text/html": [
       "<div>\n",
       "<style scoped>\n",
       "    .dataframe tbody tr th:only-of-type {\n",
       "        vertical-align: middle;\n",
       "    }\n",
       "\n",
       "    .dataframe tbody tr th {\n",
       "        vertical-align: top;\n",
       "    }\n",
       "\n",
       "    .dataframe thead th {\n",
       "        text-align: right;\n",
       "    }\n",
       "</style>\n",
       "<table border=\"1\" class=\"dataframe\">\n",
       "  <thead>\n",
       "    <tr style=\"text-align: right;\">\n",
       "      <th></th>\n",
       "      <th>SBER</th>\n",
       "      <th>LKOH</th>\n",
       "      <th>GAZP</th>\n",
       "      <th>AFLT</th>\n",
       "      <th>ROSN</th>\n",
       "      <th>NVTK</th>\n",
       "      <th>MGNT</th>\n",
       "      <th>PLZL</th>\n",
       "      <th>SNGS</th>\n",
       "      <th>CHMF</th>\n",
       "      <th>...</th>\n",
       "      <th>APTK</th>\n",
       "      <th>IRKT</th>\n",
       "      <th>VTBR</th>\n",
       "      <th>GMKN</th>\n",
       "      <th>TGKB</th>\n",
       "      <th>TGKA</th>\n",
       "      <th>SVAV</th>\n",
       "      <th>AFKS</th>\n",
       "      <th>NMTP</th>\n",
       "      <th>MSRS</th>\n",
       "    </tr>\n",
       "  </thead>\n",
       "  <tbody>\n",
       "    <tr>\n",
       "      <th>0</th>\n",
       "      <td>0.016495</td>\n",
       "      <td>-0.008177</td>\n",
       "      <td>-0.000822</td>\n",
       "      <td>0.013493</td>\n",
       "      <td>0.012558</td>\n",
       "      <td>0.005102</td>\n",
       "      <td>-0.000824</td>\n",
       "      <td>0.037725</td>\n",
       "      <td>-0.002328</td>\n",
       "      <td>0.007866</td>\n",
       "      <td>...</td>\n",
       "      <td>0.008994</td>\n",
       "      <td>0.017621</td>\n",
       "      <td>0.000822</td>\n",
       "      <td>0.014640</td>\n",
       "      <td>0.008368</td>\n",
       "      <td>0.000000</td>\n",
       "      <td>0.022682</td>\n",
       "      <td>0.019013</td>\n",
       "      <td>-0.008217</td>\n",
       "      <td>0.003984</td>\n",
       "    </tr>\n",
       "    <tr>\n",
       "      <th>1</th>\n",
       "      <td>0.011301</td>\n",
       "      <td>-0.012609</td>\n",
       "      <td>0.009960</td>\n",
       "      <td>0.003879</td>\n",
       "      <td>-0.031174</td>\n",
       "      <td>0.036050</td>\n",
       "      <td>0.035728</td>\n",
       "      <td>0.000829</td>\n",
       "      <td>-0.000986</td>\n",
       "      <td>0.017187</td>\n",
       "      <td>...</td>\n",
       "      <td>-0.013928</td>\n",
       "      <td>-0.003896</td>\n",
       "      <td>0.000000</td>\n",
       "      <td>-0.008259</td>\n",
       "      <td>-0.012448</td>\n",
       "      <td>-0.006270</td>\n",
       "      <td>0.024286</td>\n",
       "      <td>0.040105</td>\n",
       "      <td>-0.007660</td>\n",
       "      <td>0.031940</td>\n",
       "    </tr>\n",
       "    <tr>\n",
       "      <th>2</th>\n",
       "      <td>0.002865</td>\n",
       "      <td>-0.015717</td>\n",
       "      <td>0.021888</td>\n",
       "      <td>0.012845</td>\n",
       "      <td>0.002776</td>\n",
       "      <td>0.029029</td>\n",
       "      <td>0.007430</td>\n",
       "      <td>0.037725</td>\n",
       "      <td>0.009605</td>\n",
       "      <td>0.023276</td>\n",
       "      <td>...</td>\n",
       "      <td>-0.008475</td>\n",
       "      <td>-0.000565</td>\n",
       "      <td>-0.006568</td>\n",
       "      <td>0.019318</td>\n",
       "      <td>0.016807</td>\n",
       "      <td>-0.006309</td>\n",
       "      <td>-0.023703</td>\n",
       "      <td>-0.031385</td>\n",
       "      <td>-0.015438</td>\n",
       "      <td>0.013363</td>\n",
       "    </tr>\n",
       "    <tr>\n",
       "      <th>3</th>\n",
       "      <td>0.006762</td>\n",
       "      <td>-0.006502</td>\n",
       "      <td>-0.009513</td>\n",
       "      <td>0.013507</td>\n",
       "      <td>-0.009018</td>\n",
       "      <td>-0.009388</td>\n",
       "      <td>-0.013778</td>\n",
       "      <td>0.018963</td>\n",
       "      <td>-0.009514</td>\n",
       "      <td>0.019377</td>\n",
       "      <td>...</td>\n",
       "      <td>0.000000</td>\n",
       "      <td>-0.003348</td>\n",
       "      <td>-0.015702</td>\n",
       "      <td>-0.018071</td>\n",
       "      <td>-0.008264</td>\n",
       "      <td>-0.003175</td>\n",
       "      <td>0.006421</td>\n",
       "      <td>-0.003352</td>\n",
       "      <td>-0.016000</td>\n",
       "      <td>0.021245</td>\n",
       "    </tr>\n",
       "    <tr>\n",
       "      <th>4</th>\n",
       "      <td>-0.036988</td>\n",
       "      <td>-0.029475</td>\n",
       "      <td>-0.030595</td>\n",
       "      <td>-0.017803</td>\n",
       "      <td>-0.031174</td>\n",
       "      <td>-0.033116</td>\n",
       "      <td>-0.021324</td>\n",
       "      <td>-0.031904</td>\n",
       "      <td>-0.033274</td>\n",
       "      <td>-0.035623</td>\n",
       "      <td>...</td>\n",
       "      <td>-0.028490</td>\n",
       "      <td>-0.018325</td>\n",
       "      <td>-0.034678</td>\n",
       "      <td>-0.033659</td>\n",
       "      <td>-0.029167</td>\n",
       "      <td>-0.012739</td>\n",
       "      <td>-0.020575</td>\n",
       "      <td>-0.035874</td>\n",
       "      <td>-0.034296</td>\n",
       "      <td>-0.031759</td>\n",
       "    </tr>\n",
       "    <tr>\n",
       "      <th>...</th>\n",
       "      <td>...</td>\n",
       "      <td>...</td>\n",
       "      <td>...</td>\n",
       "      <td>...</td>\n",
       "      <td>...</td>\n",
       "      <td>...</td>\n",
       "      <td>...</td>\n",
       "      <td>...</td>\n",
       "      <td>...</td>\n",
       "      <td>...</td>\n",
       "      <td>...</td>\n",
       "      <td>...</td>\n",
       "      <td>...</td>\n",
       "      <td>...</td>\n",
       "      <td>...</td>\n",
       "      <td>...</td>\n",
       "      <td>...</td>\n",
       "      <td>...</td>\n",
       "      <td>...</td>\n",
       "      <td>...</td>\n",
       "      <td>...</td>\n",
       "    </tr>\n",
       "    <tr>\n",
       "      <th>4252</th>\n",
       "      <td>0.027805</td>\n",
       "      <td>0.022611</td>\n",
       "      <td>0.032824</td>\n",
       "      <td>0.023126</td>\n",
       "      <td>0.016152</td>\n",
       "      <td>0.015294</td>\n",
       "      <td>0.016581</td>\n",
       "      <td>0.018551</td>\n",
       "      <td>0.000635</td>\n",
       "      <td>0.022891</td>\n",
       "      <td>...</td>\n",
       "      <td>-0.013151</td>\n",
       "      <td>0.003984</td>\n",
       "      <td>0.035729</td>\n",
       "      <td>0.028963</td>\n",
       "      <td>-0.007317</td>\n",
       "      <td>0.009505</td>\n",
       "      <td>0.015291</td>\n",
       "      <td>0.029904</td>\n",
       "      <td>0.038936</td>\n",
       "      <td>-0.002248</td>\n",
       "    </tr>\n",
       "    <tr>\n",
       "      <th>4253</th>\n",
       "      <td>-0.007840</td>\n",
       "      <td>0.002218</td>\n",
       "      <td>-0.009523</td>\n",
       "      <td>0.003281</td>\n",
       "      <td>-0.004897</td>\n",
       "      <td>0.021950</td>\n",
       "      <td>0.029140</td>\n",
       "      <td>0.001968</td>\n",
       "      <td>0.014585</td>\n",
       "      <td>0.010845</td>\n",
       "      <td>...</td>\n",
       "      <td>-0.005923</td>\n",
       "      <td>-0.005952</td>\n",
       "      <td>-0.010323</td>\n",
       "      <td>0.015370</td>\n",
       "      <td>-0.008190</td>\n",
       "      <td>0.002853</td>\n",
       "      <td>-0.003012</td>\n",
       "      <td>-0.004804</td>\n",
       "      <td>-0.013722</td>\n",
       "      <td>0.012618</td>\n",
       "    </tr>\n",
       "    <tr>\n",
       "      <th>4254</th>\n",
       "      <td>0.006084</td>\n",
       "      <td>-0.001785</td>\n",
       "      <td>0.007093</td>\n",
       "      <td>0.011083</td>\n",
       "      <td>0.020549</td>\n",
       "      <td>-0.000632</td>\n",
       "      <td>0.006958</td>\n",
       "      <td>0.009856</td>\n",
       "      <td>-0.005417</td>\n",
       "      <td>0.010048</td>\n",
       "      <td>...</td>\n",
       "      <td>-0.006330</td>\n",
       "      <td>0.009980</td>\n",
       "      <td>0.009902</td>\n",
       "      <td>0.012584</td>\n",
       "      <td>-0.008258</td>\n",
       "      <td>0.030441</td>\n",
       "      <td>0.003776</td>\n",
       "      <td>0.013559</td>\n",
       "      <td>0.026667</td>\n",
       "      <td>0.012461</td>\n",
       "    </tr>\n",
       "    <tr>\n",
       "      <th>4255</th>\n",
       "      <td>0.006010</td>\n",
       "      <td>0.001073</td>\n",
       "      <td>0.014164</td>\n",
       "      <td>0.035993</td>\n",
       "      <td>0.008460</td>\n",
       "      <td>0.002739</td>\n",
       "      <td>-0.031448</td>\n",
       "      <td>-0.015065</td>\n",
       "      <td>0.010264</td>\n",
       "      <td>0.038779</td>\n",
       "      <td>...</td>\n",
       "      <td>-0.002248</td>\n",
       "      <td>0.029644</td>\n",
       "      <td>0.020918</td>\n",
       "      <td>0.024856</td>\n",
       "      <td>-0.010824</td>\n",
       "      <td>0.026229</td>\n",
       "      <td>0.014296</td>\n",
       "      <td>0.032217</td>\n",
       "      <td>0.009599</td>\n",
       "      <td>0.010989</td>\n",
       "    </tr>\n",
       "    <tr>\n",
       "      <th>4256</th>\n",
       "      <td>0.024191</td>\n",
       "      <td>0.031519</td>\n",
       "      <td>0.027160</td>\n",
       "      <td>0.011648</td>\n",
       "      <td>0.016862</td>\n",
       "      <td>0.036050</td>\n",
       "      <td>0.016570</td>\n",
       "      <td>0.003949</td>\n",
       "      <td>0.035457</td>\n",
       "      <td>0.038984</td>\n",
       "      <td>...</td>\n",
       "      <td>0.036943</td>\n",
       "      <td>0.047855</td>\n",
       "      <td>0.024843</td>\n",
       "      <td>0.014938</td>\n",
       "      <td>0.047702</td>\n",
       "      <td>0.034167</td>\n",
       "      <td>0.035608</td>\n",
       "      <td>0.040105</td>\n",
       "      <td>0.026286</td>\n",
       "      <td>0.011739</td>\n",
       "    </tr>\n",
       "  </tbody>\n",
       "</table>\n",
       "<p>4257 rows × 30 columns</p>\n",
       "</div>"
      ],
      "text/plain": [
       "          SBER      LKOH      GAZP      AFLT      ROSN      NVTK      MGNT  \\\n",
       "0     0.016495 -0.008177 -0.000822  0.013493  0.012558  0.005102 -0.000824   \n",
       "1     0.011301 -0.012609  0.009960  0.003879 -0.031174  0.036050  0.035728   \n",
       "2     0.002865 -0.015717  0.021888  0.012845  0.002776  0.029029  0.007430   \n",
       "3     0.006762 -0.006502 -0.009513  0.013507 -0.009018 -0.009388 -0.013778   \n",
       "4    -0.036988 -0.029475 -0.030595 -0.017803 -0.031174 -0.033116 -0.021324   \n",
       "...        ...       ...       ...       ...       ...       ...       ...   \n",
       "4252  0.027805  0.022611  0.032824  0.023126  0.016152  0.015294  0.016581   \n",
       "4253 -0.007840  0.002218 -0.009523  0.003281 -0.004897  0.021950  0.029140   \n",
       "4254  0.006084 -0.001785  0.007093  0.011083  0.020549 -0.000632  0.006958   \n",
       "4255  0.006010  0.001073  0.014164  0.035993  0.008460  0.002739 -0.031448   \n",
       "4256  0.024191  0.031519  0.027160  0.011648  0.016862  0.036050  0.016570   \n",
       "\n",
       "          PLZL      SNGS      CHMF  ...      APTK      IRKT      VTBR  \\\n",
       "0     0.037725 -0.002328  0.007866  ...  0.008994  0.017621  0.000822   \n",
       "1     0.000829 -0.000986  0.017187  ... -0.013928 -0.003896  0.000000   \n",
       "2     0.037725  0.009605  0.023276  ... -0.008475 -0.000565 -0.006568   \n",
       "3     0.018963 -0.009514  0.019377  ...  0.000000 -0.003348 -0.015702   \n",
       "4    -0.031904 -0.033274 -0.035623  ... -0.028490 -0.018325 -0.034678   \n",
       "...        ...       ...       ...  ...       ...       ...       ...   \n",
       "4252  0.018551  0.000635  0.022891  ... -0.013151  0.003984  0.035729   \n",
       "4253  0.001968  0.014585  0.010845  ... -0.005923 -0.005952 -0.010323   \n",
       "4254  0.009856 -0.005417  0.010048  ... -0.006330  0.009980  0.009902   \n",
       "4255 -0.015065  0.010264  0.038779  ... -0.002248  0.029644  0.020918   \n",
       "4256  0.003949  0.035457  0.038984  ...  0.036943  0.047855  0.024843   \n",
       "\n",
       "          GMKN      TGKB      TGKA      SVAV      AFKS      NMTP      MSRS  \n",
       "0     0.014640  0.008368  0.000000  0.022682  0.019013 -0.008217  0.003984  \n",
       "1    -0.008259 -0.012448 -0.006270  0.024286  0.040105 -0.007660  0.031940  \n",
       "2     0.019318  0.016807 -0.006309 -0.023703 -0.031385 -0.015438  0.013363  \n",
       "3    -0.018071 -0.008264 -0.003175  0.006421 -0.003352 -0.016000  0.021245  \n",
       "4    -0.033659 -0.029167 -0.012739 -0.020575 -0.035874 -0.034296 -0.031759  \n",
       "...        ...       ...       ...       ...       ...       ...       ...  \n",
       "4252  0.028963 -0.007317  0.009505  0.015291  0.029904  0.038936 -0.002248  \n",
       "4253  0.015370 -0.008190  0.002853 -0.003012 -0.004804 -0.013722  0.012618  \n",
       "4254  0.012584 -0.008258  0.030441  0.003776  0.013559  0.026667  0.012461  \n",
       "4255  0.024856 -0.010824  0.026229  0.014296  0.032217  0.009599  0.010989  \n",
       "4256  0.014938  0.047702  0.034167  0.035608  0.040105  0.026286  0.011739  \n",
       "\n",
       "[4257 rows x 30 columns]"
      ]
     },
     "execution_count": 8,
     "metadata": {},
     "output_type": "execute_result"
    }
   ],
   "source": [
    "bytes_data = s3.get_object(Bucket='portfoliodata', Key=\"prepared_data/returns_clipped.csv\")['Body'].read()\n",
    "csv_data = StringIO(str(bytes_data,'utf-8')) \n",
    "\n",
    "data = pd.read_csv(csv_data)\n",
    "date_data = pd.to_datetime(data['begin'])\n",
    "#date_data = data.iloc[:,1]\n",
    "return_data = data.drop(columns=[\"begin\"], axis=1)\n",
    "return_data_nc = return_data.copy()\n",
    "return_data"
   ]
  },
  {
   "cell_type": "code",
   "execution_count": 9,
   "metadata": {},
   "outputs": [],
   "source": [
    "# выбросы\n",
    "# lower_bound = return_data.quantile(0.05)\n",
    "# upper_bound = return_data.quantile(0.95)\n",
    "# return_data = return_data.clip(lower=lower_bound, upper=upper_bound, axis=1)\n",
    "# return_data['begin'] = date_data\n",
    "\n",
    "\n",
    "# csv_data = return_data.to_csv(index=False).encode('utf-8')\n",
    "# s3.put_object(\n",
    "#     Bucket='portfoliodata',\n",
    "#     Key=f'prepared_data/returns_clipped.csv',\n",
    "#     Body=csv_data\n",
    "# )"
   ]
  },
  {
   "cell_type": "code",
   "execution_count": 10,
   "metadata": {},
   "outputs": [
    {
     "data": {
      "text/html": [
       "<div>\n",
       "<style scoped>\n",
       "    .dataframe tbody tr th:only-of-type {\n",
       "        vertical-align: middle;\n",
       "    }\n",
       "\n",
       "    .dataframe tbody tr th {\n",
       "        vertical-align: top;\n",
       "    }\n",
       "\n",
       "    .dataframe thead th {\n",
       "        text-align: right;\n",
       "    }\n",
       "</style>\n",
       "<table border=\"1\" class=\"dataframe\">\n",
       "  <thead>\n",
       "    <tr style=\"text-align: right;\">\n",
       "      <th></th>\n",
       "      <th>id</th>\n",
       "      <th>secid</th>\n",
       "      <th>shortname</th>\n",
       "      <th>regnumber</th>\n",
       "      <th>name</th>\n",
       "      <th>isin</th>\n",
       "      <th>is_traded</th>\n",
       "      <th>emitent_id</th>\n",
       "      <th>emitent_title</th>\n",
       "      <th>emitent_inn</th>\n",
       "      <th>emitent_okpo</th>\n",
       "      <th>gosreg</th>\n",
       "      <th>type</th>\n",
       "      <th>group</th>\n",
       "      <th>primary_boardid</th>\n",
       "      <th>marketprice_boardid</th>\n",
       "    </tr>\n",
       "  </thead>\n",
       "  <tbody>\n",
       "    <tr>\n",
       "      <th>0</th>\n",
       "      <td>424433251</td>\n",
       "      <td>ABIO</td>\n",
       "      <td>iАРТГЕН ао</td>\n",
       "      <td>1-01-08902-A</td>\n",
       "      <td>ПАО \"Артген\"</td>\n",
       "      <td>RU000A0JNAB6</td>\n",
       "      <td>1</td>\n",
       "      <td>1142.0</td>\n",
       "      <td>Публичное акционерное общество \"Артген биотех\"</td>\n",
       "      <td>7.702509e+09</td>\n",
       "      <td>71328785.0</td>\n",
       "      <td>1-01-08902-A</td>\n",
       "      <td>common_share</td>\n",
       "      <td>stock_shares</td>\n",
       "      <td>TQBR</td>\n",
       "      <td>TQBR</td>\n",
       "    </tr>\n",
       "    <tr>\n",
       "      <th>1</th>\n",
       "      <td>12441</td>\n",
       "      <td>ABRD</td>\n",
       "      <td>АбрауДюрсо</td>\n",
       "      <td>1-02-12500-A</td>\n",
       "      <td>Абрау-Дюрсо ПАО ао</td>\n",
       "      <td>RU000A0JS5T7</td>\n",
       "      <td>1</td>\n",
       "      <td>4787.0</td>\n",
       "      <td>Публичное акционерное общество \"Абрау – Дюрсо\"</td>\n",
       "      <td>7.727621e+09</td>\n",
       "      <td>81521198.0</td>\n",
       "      <td>1-02-12500-A</td>\n",
       "      <td>common_share</td>\n",
       "      <td>stock_shares</td>\n",
       "      <td>TQBR</td>\n",
       "      <td>TQBR</td>\n",
       "    </tr>\n",
       "    <tr>\n",
       "      <th>2</th>\n",
       "      <td>2699</td>\n",
       "      <td>AFKS</td>\n",
       "      <td>Система ао</td>\n",
       "      <td>1-05-01669-A</td>\n",
       "      <td>АФК \"Система\" ПАО ао</td>\n",
       "      <td>RU000A0DQZE3</td>\n",
       "      <td>1</td>\n",
       "      <td>777.0</td>\n",
       "      <td>Публичное акционерное общество \"Акционерная фи...</td>\n",
       "      <td>7.703105e+09</td>\n",
       "      <td>27987276.0</td>\n",
       "      <td>1-05-01669-A</td>\n",
       "      <td>common_share</td>\n",
       "      <td>stock_shares</td>\n",
       "      <td>TQBR</td>\n",
       "      <td>TQBR</td>\n",
       "    </tr>\n",
       "    <tr>\n",
       "      <th>3</th>\n",
       "      <td>2700</td>\n",
       "      <td>AFLT</td>\n",
       "      <td>Аэрофлот</td>\n",
       "      <td>1-01-00010-A</td>\n",
       "      <td>Аэрофлот-росс.авиалин(ПАО)ао</td>\n",
       "      <td>RU0009062285</td>\n",
       "      <td>1</td>\n",
       "      <td>1242.0</td>\n",
       "      <td>Публичное акционерное общество \"Аэрофлот – рос...</td>\n",
       "      <td>7.712040e+09</td>\n",
       "      <td>29063984.0</td>\n",
       "      <td>1-01-00010-A</td>\n",
       "      <td>common_share</td>\n",
       "      <td>stock_shares</td>\n",
       "      <td>TQBR</td>\n",
       "      <td>TQBR</td>\n",
       "    </tr>\n",
       "    <tr>\n",
       "      <th>4</th>\n",
       "      <td>76079</td>\n",
       "      <td>AGRO</td>\n",
       "      <td>AGRO-гдр</td>\n",
       "      <td>NaN</td>\n",
       "      <td>ГДР ROS AGRO PLC ORD SHS</td>\n",
       "      <td>US7496552057</td>\n",
       "      <td>1</td>\n",
       "      <td>7502.0</td>\n",
       "      <td>ROS AGRO PLC</td>\n",
       "      <td>1.003487e+07</td>\n",
       "      <td>NaN</td>\n",
       "      <td>NaN</td>\n",
       "      <td>depositary_receipt</td>\n",
       "      <td>stock_dr</td>\n",
       "      <td>TQBR</td>\n",
       "      <td>TQBR</td>\n",
       "    </tr>\n",
       "    <tr>\n",
       "      <th>...</th>\n",
       "      <td>...</td>\n",
       "      <td>...</td>\n",
       "      <td>...</td>\n",
       "      <td>...</td>\n",
       "      <td>...</td>\n",
       "      <td>...</td>\n",
       "      <td>...</td>\n",
       "      <td>...</td>\n",
       "      <td>...</td>\n",
       "      <td>...</td>\n",
       "      <td>...</td>\n",
       "      <td>...</td>\n",
       "      <td>...</td>\n",
       "      <td>...</td>\n",
       "      <td>...</td>\n",
       "      <td>...</td>\n",
       "    </tr>\n",
       "    <tr>\n",
       "      <th>2412</th>\n",
       "      <td>8151</td>\n",
       "      <td>ziop</td>\n",
       "      <td>АО \"ЗиО-Подольск\"</td>\n",
       "      <td>1-01-04090-A</td>\n",
       "      <td>Акционерное общество \"Машиностроительный завод...</td>\n",
       "      <td>RU000A0JQ6B5</td>\n",
       "      <td>0</td>\n",
       "      <td>3685.0</td>\n",
       "      <td>Акционерное общество \"Машиностроительный завод...</td>\n",
       "      <td>5.036041e+09</td>\n",
       "      <td>NaN</td>\n",
       "      <td>1-01-04090-A</td>\n",
       "      <td>common_share</td>\n",
       "      <td>stock_shares</td>\n",
       "      <td>EQNE</td>\n",
       "      <td>NaN</td>\n",
       "    </tr>\n",
       "    <tr>\n",
       "      <th>2413</th>\n",
       "      <td>7778</td>\n",
       "      <td>ZIRE</td>\n",
       "      <td>ЗИРЕРА ао</td>\n",
       "      <td>1-01-57303-D</td>\n",
       "      <td>\"ЗИРЕРА\" ОАО - ао</td>\n",
       "      <td>RU000A0JRFT8</td>\n",
       "      <td>0</td>\n",
       "      <td>4518.0</td>\n",
       "      <td>Открытое акционерное общество \"ЗИРЕРА\"</td>\n",
       "      <td>1.655203e+09</td>\n",
       "      <td>68734469.0</td>\n",
       "      <td>1-01-57303-D</td>\n",
       "      <td>common_share</td>\n",
       "      <td>stock_shares</td>\n",
       "      <td>TQNE</td>\n",
       "      <td>NaN</td>\n",
       "    </tr>\n",
       "    <tr>\n",
       "      <th>2414</th>\n",
       "      <td>3898</td>\n",
       "      <td>ZMZN</td>\n",
       "      <td>ЗМЗ-ао</td>\n",
       "      <td>1-01-00230-A</td>\n",
       "      <td>Заволжский мотор.з-д ПАО ао</td>\n",
       "      <td>RU0009101539</td>\n",
       "      <td>0</td>\n",
       "      <td>1004.0</td>\n",
       "      <td>Публичное акционерное общество \"Заволжский мот...</td>\n",
       "      <td>5.248004e+09</td>\n",
       "      <td>NaN</td>\n",
       "      <td>1-01-00230-A</td>\n",
       "      <td>common_share</td>\n",
       "      <td>stock_shares</td>\n",
       "      <td>TQBR</td>\n",
       "      <td>TQBR</td>\n",
       "    </tr>\n",
       "    <tr>\n",
       "      <th>2415</th>\n",
       "      <td>3899</td>\n",
       "      <td>ZMZNP</td>\n",
       "      <td>ЗМЗ-ап</td>\n",
       "      <td>2-01-00230-A</td>\n",
       "      <td>Заволжский мотор.завод ПАО ап</td>\n",
       "      <td>RU0006752854</td>\n",
       "      <td>0</td>\n",
       "      <td>1004.0</td>\n",
       "      <td>Публичное акционерное общество \"Заволжский мот...</td>\n",
       "      <td>5.248004e+09</td>\n",
       "      <td>NaN</td>\n",
       "      <td>2-01-00230-A</td>\n",
       "      <td>preferred_share</td>\n",
       "      <td>stock_shares</td>\n",
       "      <td>TQBR</td>\n",
       "      <td>TQBR</td>\n",
       "    </tr>\n",
       "    <tr>\n",
       "      <th>2416</th>\n",
       "      <td>7218</td>\n",
       "      <td>ZOYA</td>\n",
       "      <td>ЗолЯкутии</td>\n",
       "      <td>1-02-20624-F</td>\n",
       "      <td>Золото Якутии ОАО ао</td>\n",
       "      <td>RU0007664942</td>\n",
       "      <td>0</td>\n",
       "      <td>1489.0</td>\n",
       "      <td>Открытое акционерное общество \"Золото Якутии\"</td>\n",
       "      <td>1.435028e+09</td>\n",
       "      <td>13135180.0</td>\n",
       "      <td>1-02-20624-F</td>\n",
       "      <td>common_share</td>\n",
       "      <td>stock_shares</td>\n",
       "      <td>TQNE</td>\n",
       "      <td>NaN</td>\n",
       "    </tr>\n",
       "  </tbody>\n",
       "</table>\n",
       "<p>2417 rows × 16 columns</p>\n",
       "</div>"
      ],
      "text/plain": [
       "             id  secid          shortname     regnumber  \\\n",
       "0     424433251   ABIO         iАРТГЕН ао  1-01-08902-A   \n",
       "1         12441   ABRD         АбрауДюрсо  1-02-12500-A   \n",
       "2          2699   AFKS         Система ао  1-05-01669-A   \n",
       "3          2700   AFLT           Аэрофлот  1-01-00010-A   \n",
       "4         76079   AGRO           AGRO-гдр           NaN   \n",
       "...         ...    ...                ...           ...   \n",
       "2412       8151   ziop  АО \"ЗиО-Подольск\"  1-01-04090-A   \n",
       "2413       7778   ZIRE          ЗИРЕРА ао  1-01-57303-D   \n",
       "2414       3898   ZMZN             ЗМЗ-ао  1-01-00230-A   \n",
       "2415       3899  ZMZNP             ЗМЗ-ап  2-01-00230-A   \n",
       "2416       7218   ZOYA          ЗолЯкутии  1-02-20624-F   \n",
       "\n",
       "                                                   name          isin  \\\n",
       "0                                          ПАО \"Артген\"  RU000A0JNAB6   \n",
       "1                                    Абрау-Дюрсо ПАО ао  RU000A0JS5T7   \n",
       "2                                  АФК \"Система\" ПАО ао  RU000A0DQZE3   \n",
       "3                          Аэрофлот-росс.авиалин(ПАО)ао  RU0009062285   \n",
       "4                              ГДР ROS AGRO PLC ORD SHS  US7496552057   \n",
       "...                                                 ...           ...   \n",
       "2412  Акционерное общество \"Машиностроительный завод...  RU000A0JQ6B5   \n",
       "2413                                  \"ЗИРЕРА\" ОАО - ао  RU000A0JRFT8   \n",
       "2414                        Заволжский мотор.з-д ПАО ао  RU0009101539   \n",
       "2415                      Заволжский мотор.завод ПАО ап  RU0006752854   \n",
       "2416                               Золото Якутии ОАО ао  RU0007664942   \n",
       "\n",
       "      is_traded  emitent_id  \\\n",
       "0             1      1142.0   \n",
       "1             1      4787.0   \n",
       "2             1       777.0   \n",
       "3             1      1242.0   \n",
       "4             1      7502.0   \n",
       "...         ...         ...   \n",
       "2412          0      3685.0   \n",
       "2413          0      4518.0   \n",
       "2414          0      1004.0   \n",
       "2415          0      1004.0   \n",
       "2416          0      1489.0   \n",
       "\n",
       "                                          emitent_title   emitent_inn  \\\n",
       "0        Публичное акционерное общество \"Артген биотех\"  7.702509e+09   \n",
       "1        Публичное акционерное общество \"Абрау – Дюрсо\"  7.727621e+09   \n",
       "2     Публичное акционерное общество \"Акционерная фи...  7.703105e+09   \n",
       "3     Публичное акционерное общество \"Аэрофлот – рос...  7.712040e+09   \n",
       "4                                          ROS AGRO PLC  1.003487e+07   \n",
       "...                                                 ...           ...   \n",
       "2412  Акционерное общество \"Машиностроительный завод...  5.036041e+09   \n",
       "2413             Открытое акционерное общество \"ЗИРЕРА\"  1.655203e+09   \n",
       "2414  Публичное акционерное общество \"Заволжский мот...  5.248004e+09   \n",
       "2415  Публичное акционерное общество \"Заволжский мот...  5.248004e+09   \n",
       "2416      Открытое акционерное общество \"Золото Якутии\"  1.435028e+09   \n",
       "\n",
       "      emitent_okpo        gosreg                type         group  \\\n",
       "0       71328785.0  1-01-08902-A        common_share  stock_shares   \n",
       "1       81521198.0  1-02-12500-A        common_share  stock_shares   \n",
       "2       27987276.0  1-05-01669-A        common_share  stock_shares   \n",
       "3       29063984.0  1-01-00010-A        common_share  stock_shares   \n",
       "4              NaN           NaN  depositary_receipt      stock_dr   \n",
       "...            ...           ...                 ...           ...   \n",
       "2412           NaN  1-01-04090-A        common_share  stock_shares   \n",
       "2413    68734469.0  1-01-57303-D        common_share  stock_shares   \n",
       "2414           NaN  1-01-00230-A        common_share  stock_shares   \n",
       "2415           NaN  2-01-00230-A     preferred_share  stock_shares   \n",
       "2416    13135180.0  1-02-20624-F        common_share  stock_shares   \n",
       "\n",
       "     primary_boardid marketprice_boardid  \n",
       "0               TQBR                TQBR  \n",
       "1               TQBR                TQBR  \n",
       "2               TQBR                TQBR  \n",
       "3               TQBR                TQBR  \n",
       "4               TQBR                TQBR  \n",
       "...              ...                 ...  \n",
       "2412            EQNE                 NaN  \n",
       "2413            TQNE                 NaN  \n",
       "2414            TQBR                TQBR  \n",
       "2415            TQBR                TQBR  \n",
       "2416            TQNE                 NaN  \n",
       "\n",
       "[2417 rows x 16 columns]"
      ]
     },
     "execution_count": 10,
     "metadata": {},
     "output_type": "execute_result"
    }
   ],
   "source": [
    "bytes_data = s3.get_object(Bucket='portfoliodata', Key=\"stock_meta_data.csv\")['Body'].read()\n",
    "csv_data = StringIO(str(bytes_data,'utf-8')) \n",
    "meta_data=pd.read_csv(csv_data).iloc[:,1:]\n",
    "meta_data"
   ]
  },
  {
   "cell_type": "markdown",
   "metadata": {},
   "source": [
    "### Анализ влияния ограничений в optimizer на границу эффективных портфелей"
   ]
  },
  {
   "cell_type": "markdown",
   "metadata": {},
   "source": [
    "#### Задание 4"
   ]
  },
  {
   "cell_type": "code",
   "execution_count": 11,
   "metadata": {},
   "outputs": [],
   "source": [
    "data_2018_year = return_data.iloc[date_data[date_data.dt.year == 2018].index]"
   ]
  },
  {
   "cell_type": "markdown",
   "metadata": {},
   "source": [
    "#### Задание 5"
   ]
  },
  {
   "cell_type": "code",
   "execution_count": 13,
   "metadata": {},
   "outputs": [],
   "source": [
    "# на 2018 году"
   ]
  },
  {
   "cell_type": "code",
   "execution_count": 14,
   "metadata": {},
   "outputs": [
    {
     "data": {
      "application/vnd.jupyter.widget-view+json": {
       "model_id": "77d83525aac64cb4881da548f06cd210",
       "version_major": 2,
       "version_minor": 0
      },
      "text/plain": [
       "  0%|          | 0/500 [00:00<?, ?it/s]"
      ]
     },
     "metadata": {},
     "output_type": "display_data"
    },
    {
     "data": {
      "text/plain": [
       "<Figure size 800x800 with 0 Axes>"
      ]
     },
     "metadata": {},
     "output_type": "display_data"
    },
    {
     "data": {
      "image/png": "[encoded data removed]",
      "text/plain": [
       "<Figure size 640x480 with 1 Axes>"
      ]
     },
     "metadata": {
      "image/png": {
       "height": 451,
       "width": 587
      }
     },
     "output_type": "display_data"
    }
   ],
   "source": [
    "optim = Optimizer(data_2018_year)\n",
    "res_5 = optim.efficient_frontier_curve()\n",
    "\n",
    "plt.figure(figsize=(8,8))\n",
    "fig, ax = plt.subplots()\n",
    "plot_efficient_frontier_curve([x[1] for x in res_5], [x[0] for x in res_5], label='no_constraints', ax=ax)"
   ]
  },
  {
   "cell_type": "markdown",
   "metadata": {},
   "source": [
    "## Задание 25"
   ]
  },
  {
   "cell_type": "code",
   "execution_count": 17,
   "metadata": {},
   "outputs": [
    {
     "data": {
      "application/vnd.jupyter.widget-view+json": {
       "model_id": "3b03965b07144383a901fa20ae070aa8",
       "version_major": 2,
       "version_minor": 0
      },
      "text/plain": [
       "  0%|          | 0/100 [00:00<?, ?it/s]"
      ]
     },
     "metadata": {},
     "output_type": "display_data"
    },
    {
     "data": {
      "text/plain": [
       "<Figure size 800x800 with 0 Axes>"
      ]
     },
     "metadata": {},
     "output_type": "display_data"
    },
    {
     "data": {
      "image/png": "[encoded data removed]",
      "text/plain": [
       "<Figure size 640x480 with 1 Axes>"
      ]
     },
     "metadata": {
      "image/png": {
       "height": 451,
       "width": 587
      }
     },
     "output_type": "display_data"
    }
   ],
   "source": [
    "optim = OptimizerIS(data_2018_year)\n",
    "res_5 = optim.efficient_frontier_curve_with_is()\n",
    "\n",
    "plt.figure(figsize=(8,8))\n",
    "fig, ax = plt.subplots()\n",
    "plot_efficient_frontier_curve([x[1] for x in res_5], [x[0] for x in res_5], label='no_constraints', ax=ax)"
   ]
  },
  {
   "cell_type": "code",
   "execution_count": null,
   "metadata": {},
   "outputs": [
    {
     "name": "stdout",
     "output_type": "stream",
     "text": [
      "Максимальный Sharpe Ratio: 0.13769708677315742\n",
      "Доходность: 0.002184430187048773\n",
      "Риск (std): 0.014134902884038009\n",
      "Веса: [ 0.06466941 -0.15241265 -0.08999989 -0.13792223  0.28638723  0.30438286\n",
      "  0.14054917 -0.1125967  -0.06044149 -0.08812711  0.28364097 -0.21609786\n",
      " -0.0961136   0.26168766  0.17585419  0.159567    0.15663998 -0.05608343\n",
      "  0.17642491  0.0442168  -0.21571193  0.1798413   0.03578863  0.16069951\n",
      " -0.03288378 -0.23708095  0.05940059 -0.1041495  -0.06265158  0.17252249]\n"
     ]
    }
   ],
   "source": [
    "r_f = 0.06/252  \n",
    "\n",
    "best_sharpe = -np.inf\n",
    "best_point = None  \n",
    "for (ret, std, w) in res_5:\n",
    "    sharpe = (ret - r_f) / std if std != 0 else -np.inf\n",
    "    if sharpe > best_sharpe:\n",
    "        best_sharpe = sharpe\n",
    "        best_point = (ret, std, w)\n",
    "\n",
    "if best_point is not None:\n",
    "    print(\"Максимальный Sharpe Ratio:\", best_sharpe)\n",
    "    print(\"Доходность:\", best_point[0])\n",
    "    print(\"Риск (std):\", best_point[1])\n",
    "    print(\"Веса:\", best_point[2])\n",
    "else:\n",
    "    print(\"Не удалось найти портфель на фронтире.\")"
   ]
  },
  {
   "cell_type": "code",
   "execution_count": 21,
   "metadata": {},
   "outputs": [],
   "source": [
    "data_2019_year = return_data.iloc[date_data[date_data.dt.year == 2019].index]"
   ]
  },
  {
   "cell_type": "code",
   "execution_count": 24,
   "metadata": {},
   "outputs": [
    {
     "data": {
      "application/vnd.jupyter.widget-view+json": {
       "model_id": "07c57be45f5e4209a4af2fc244b01cb4",
       "version_major": 2,
       "version_minor": 0
      },
      "text/plain": [
       "  0%|          | 0/100 [00:00<?, ?it/s]"
      ]
     },
     "metadata": {},
     "output_type": "display_data"
    },
    {
     "data": {
      "text/plain": [
       "<Figure size 800x800 with 0 Axes>"
      ]
     },
     "metadata": {},
     "output_type": "display_data"
    },
    {
     "data": {
      "image/png": "[encoded data removed]",
      "text/plain": [
       "<Figure size 640x480 with 1 Axes>"
      ]
     },
     "metadata": {
      "image/png": {
       "height": 451,
       "width": 595
      }
     },
     "output_type": "display_data"
    }
   ],
   "source": [
    "optim = OptimizerIS(\n",
    "    data_2019_year,\n",
    "    w_old=best_point[2],\n",
    "    is_costs=np.ones(30) * 0.05\n",
    ")\n",
    "res = optim.efficient_frontier_curve_with_is()\n",
    "\n",
    "plt.figure(figsize=(8,8))\n",
    "fig, ax = plt.subplots()\n",
    "plot_efficient_frontier_curve([x[1] for x in res], [x[0] for x in res], label='no_constraints', ax=ax)"
   ]
  },
  {
   "cell_type": "code",
   "execution_count": null,
   "metadata": {},
   "outputs": [
    {
     "data": {
      "application/vnd.jupyter.widget-view+json": {
       "model_id": "b2471bb41b7848c6b44304a61fe4874e",
       "version_major": 2,
       "version_minor": 0
      },
      "text/plain": [
       "  0%|          | 0/50 [00:00<?, ?it/s]"
      ]
     },
     "metadata": {},
     "output_type": "display_data"
    },
    {
     "data": {
      "application/vnd.jupyter.widget-view+json": {
       "model_id": "a8fe2a4bff734b0cb26922e28ac0bca9",
       "version_major": 2,
       "version_minor": 0
      },
      "text/plain": [
       "  0%|          | 0/50 [00:00<?, ?it/s]"
      ]
     },
     "metadata": {},
     "output_type": "display_data"
    },
    {
     "data": {
      "application/vnd.jupyter.widget-view+json": {
       "model_id": "bb5322f13a6c482a851666c92bd81458",
       "version_major": 2,
       "version_minor": 0
      },
      "text/plain": [
       "  0%|          | 0/50 [00:00<?, ?it/s]"
      ]
     },
     "metadata": {},
     "output_type": "display_data"
    },
    {
     "data": {
      "application/vnd.jupyter.widget-view+json": {
       "model_id": "d47bfaa1477b467cad685269d6edd62c",
       "version_major": 2,
       "version_minor": 0
      },
      "text/plain": [
       "  0%|          | 0/50 [00:00<?, ?it/s]"
      ]
     },
     "metadata": {},
     "output_type": "display_data"
    },
    {
     "data": {
      "application/vnd.jupyter.widget-view+json": {
       "model_id": "a3fd6561eaae4480a240fbb7b25005cb",
       "version_major": 2,
       "version_minor": 0
      },
      "text/plain": [
       "  0%|          | 0/50 [00:00<?, ?it/s]"
      ]
     },
     "metadata": {},
     "output_type": "display_data"
    },
    {
     "data": {
      "application/vnd.jupyter.widget-view+json": {
       "model_id": "24df795ce52342b89ad14347bf122dea",
       "version_major": 2,
       "version_minor": 0
      },
      "text/plain": [
       "  0%|          | 0/50 [00:00<?, ?it/s]"
      ]
     },
     "metadata": {},
     "output_type": "display_data"
    },
    {
     "data": {
      "application/vnd.jupyter.widget-view+json": {
       "model_id": "2f7b141a34dc43d69875a9d6fa649076",
       "version_major": 2,
       "version_minor": 0
      },
      "text/plain": [
       "  0%|          | 0/50 [00:00<?, ?it/s]"
      ]
     },
     "metadata": {},
     "output_type": "display_data"
    },
    {
     "data": {
      "application/vnd.jupyter.widget-view+json": {
       "model_id": "f62131cebbe54d00a40941be6edcadba",
       "version_major": 2,
       "version_minor": 0
      },
      "text/plain": [
       "  0%|          | 0/50 [00:00<?, ?it/s]"
      ]
     },
     "metadata": {},
     "output_type": "display_data"
    },
    {
     "data": {
      "application/vnd.jupyter.widget-view+json": {
       "model_id": "5bc5309ce47d49f1b6017398d2a90c75",
       "version_major": 2,
       "version_minor": 0
      },
      "text/plain": [
       "  0%|          | 0/50 [00:00<?, ?it/s]"
      ]
     },
     "metadata": {},
     "output_type": "display_data"
    },
    {
     "data": {
      "application/vnd.jupyter.widget-view+json": {
       "model_id": "72be806d3f7a401abf64c7a9df465006",
       "version_major": 2,
       "version_minor": 0
      },
      "text/plain": [
       "  0%|          | 0/50 [00:00<?, ?it/s]"
      ]
     },
     "metadata": {},
     "output_type": "display_data"
    },
    {
     "data": {
      "application/vnd.jupyter.widget-view+json": {
       "model_id": "dec04cb2d3ca401f85e007f787e6c2f0",
       "version_major": 2,
       "version_minor": 0
      },
      "text/plain": [
       "  0%|          | 0/50 [00:00<?, ?it/s]"
      ]
     },
     "metadata": {},
     "output_type": "display_data"
    },
    {
     "data": {
      "application/vnd.jupyter.widget-view+json": {
       "model_id": "5474821d56034a1bb5ae8fce279ca594",
       "version_major": 2,
       "version_minor": 0
      },
      "text/plain": [
       "  0%|          | 0/50 [00:00<?, ?it/s]"
      ]
     },
     "metadata": {},
     "output_type": "display_data"
    },
    {
     "data": {
      "application/vnd.jupyter.widget-view+json": {
       "model_id": "53e134e973eb4aaf8662f4988adcf695",
       "version_major": 2,
       "version_minor": 0
      },
      "text/plain": [
       "  0%|          | 0/50 [00:00<?, ?it/s]"
      ]
     },
     "metadata": {},
     "output_type": "display_data"
    },
    {
     "data": {
      "application/vnd.jupyter.widget-view+json": {
       "model_id": "8d7f2dfe7e0940948e5bac7d72577a4f",
       "version_major": 2,
       "version_minor": 0
      },
      "text/plain": [
       "  0%|          | 0/50 [00:00<?, ?it/s]"
      ]
     },
     "metadata": {},
     "output_type": "display_data"
    },
    {
     "data": {
      "application/vnd.jupyter.widget-view+json": {
       "model_id": "2f9295313ed34cc597fdc2c88eb389cc",
       "version_major": 2,
       "version_minor": 0
      },
      "text/plain": [
       "  0%|          | 0/50 [00:00<?, ?it/s]"
      ]
     },
     "metadata": {},
     "output_type": "display_data"
    },
    {
     "data": {
      "application/vnd.jupyter.widget-view+json": {
       "model_id": "58e82ffdf2994cf69bdc454b33b70ea6",
       "version_major": 2,
       "version_minor": 0
      },
      "text/plain": [
       "  0%|          | 0/50 [00:00<?, ?it/s]"
      ]
     },
     "metadata": {},
     "output_type": "display_data"
    },
    {
     "data": {
      "application/vnd.jupyter.widget-view+json": {
       "model_id": "ae1354423e4c4288a0f6f65fd245c055",
       "version_major": 2,
       "version_minor": 0
      },
      "text/plain": [
       "  0%|          | 0/50 [00:00<?, ?it/s]"
      ]
     },
     "metadata": {},
     "output_type": "display_data"
    },
    {
     "data": {
      "application/vnd.jupyter.widget-view+json": {
       "model_id": "dccd5896a0cc4682906d27af4e8a7d59",
       "version_major": 2,
       "version_minor": 0
      },
      "text/plain": [
       "  0%|          | 0/50 [00:00<?, ?it/s]"
      ]
     },
     "metadata": {},
     "output_type": "display_data"
    },
    {
     "name": "stdout",
     "output_type": "stream",
     "text": [
      "Год=2008 Макс. Sharpe=-0.0270, ret=-0.0001, std=0.0199\n"
     ]
    },
    {
     "data": {
      "application/vnd.jupyter.widget-view+json": {
       "model_id": "7f87f48d527845208b47a08d3ed6bc84",
       "version_major": 2,
       "version_minor": 0
      },
      "text/plain": [
       "  0%|          | 0/50 [00:00<?, ?it/s]"
      ]
     },
     "metadata": {},
     "output_type": "display_data"
    },
    {
     "name": "stdout",
     "output_type": "stream",
     "text": [
      "Год=2009 Макс. Sharpe=0.2423, ret=0.0062, std=0.0239\n"
     ]
    },
    {
     "data": {
      "application/vnd.jupyter.widget-view+json": {
       "model_id": "7b398674f54b4c0fa1d7e9d1583af224",
       "version_major": 2,
       "version_minor": 0
      },
      "text/plain": [
       "  0%|          | 0/50 [00:00<?, ?it/s]"
      ]
     },
     "metadata": {},
     "output_type": "display_data"
    },
    {
     "name": "stdout",
     "output_type": "stream",
     "text": [
      "Год=2010 Макс. Sharpe=0.1474, ret=0.0027, std=0.0155\n"
     ]
    },
    {
     "data": {
      "application/vnd.jupyter.widget-view+json": {
       "model_id": "efc471025f8049bb9325625b8d988cef",
       "version_major": 2,
       "version_minor": 0
      },
      "text/plain": [
       "  0%|          | 0/50 [00:00<?, ?it/s]"
      ]
     },
     "metadata": {},
     "output_type": "display_data"
    },
    {
     "name": "stdout",
     "output_type": "stream",
     "text": [
      "Год=2011 Макс. Sharpe=0.0586, ret=0.0014, std=0.0169\n"
     ]
    },
    {
     "data": {
      "application/vnd.jupyter.widget-view+json": {
       "model_id": "9aef8f72ff7e47559a94611131aaa5ae",
       "version_major": 2,
       "version_minor": 0
      },
      "text/plain": [
       "  0%|          | 0/50 [00:00<?, ?it/s]"
      ]
     },
     "metadata": {},
     "output_type": "display_data"
    },
    {
     "name": "stdout",
     "output_type": "stream",
     "text": [
      "Год=2012 Макс. Sharpe=0.1317, ret=0.0024, std=0.0152\n"
     ]
    },
    {
     "data": {
      "application/vnd.jupyter.widget-view+json": {
       "model_id": "5481ab8ffa584e5d865b878912312c05",
       "version_major": 2,
       "version_minor": 0
      },
      "text/plain": [
       "  0%|          | 0/50 [00:00<?, ?it/s]"
      ]
     },
     "metadata": {},
     "output_type": "display_data"
    },
    {
     "name": "stdout",
     "output_type": "stream",
     "text": [
      "Год=2013 Макс. Sharpe=0.1353, ret=0.0023, std=0.0144\n"
     ]
    },
    {
     "data": {
      "application/vnd.jupyter.widget-view+json": {
       "model_id": "3fd175e051094397b09efdabc50efda3",
       "version_major": 2,
       "version_minor": 0
      },
      "text/plain": [
       "  0%|          | 0/50 [00:00<?, ?it/s]"
      ]
     },
     "metadata": {},
     "output_type": "display_data"
    },
    {
     "name": "stdout",
     "output_type": "stream",
     "text": [
      "Год=2014 Макс. Sharpe=0.1289, ret=0.0024, std=0.0156\n"
     ]
    },
    {
     "data": {
      "application/vnd.jupyter.widget-view+json": {
       "model_id": "005db64da2114d75a0946e4a52318199",
       "version_major": 2,
       "version_minor": 0
      },
      "text/plain": [
       "  0%|          | 0/50 [00:00<?, ?it/s]"
      ]
     },
     "metadata": {},
     "output_type": "display_data"
    },
    {
     "name": "stdout",
     "output_type": "stream",
     "text": [
      "Год=2015 Макс. Sharpe=0.1796, ret=0.0033, std=0.0162\n"
     ]
    },
    {
     "data": {
      "application/vnd.jupyter.widget-view+json": {
       "model_id": "04f828a620274813a8da1d382ba5e364",
       "version_major": 2,
       "version_minor": 0
      },
      "text/plain": [
       "  0%|          | 0/50 [00:00<?, ?it/s]"
      ]
     },
     "metadata": {},
     "output_type": "display_data"
    },
    {
     "name": "stdout",
     "output_type": "stream",
     "text": [
      "Год=2016 Макс. Sharpe=0.1817, ret=0.0036, std=0.0174\n"
     ]
    },
    {
     "data": {
      "application/vnd.jupyter.widget-view+json": {
       "model_id": "c54957a49bb544c59a76f216719e6b9d",
       "version_major": 2,
       "version_minor": 0
      },
      "text/plain": [
       "  0%|          | 0/50 [00:00<?, ?it/s]"
      ]
     },
     "metadata": {},
     "output_type": "display_data"
    },
    {
     "name": "stdout",
     "output_type": "stream",
     "text": [
      "Год=2017 Макс. Sharpe=0.0668, ret=0.0015, std=0.0161\n"
     ]
    },
    {
     "data": {
      "application/vnd.jupyter.widget-view+json": {
       "model_id": "45637ba43513403c9fcc81878e856215",
       "version_major": 2,
       "version_minor": 0
      },
      "text/plain": [
       "  0%|          | 0/50 [00:00<?, ?it/s]"
      ]
     },
     "metadata": {},
     "output_type": "display_data"
    },
    {
     "name": "stdout",
     "output_type": "stream",
     "text": [
      "Год=2018 Макс. Sharpe=0.1083, ret=0.0021, std=0.0161\n"
     ]
    },
    {
     "data": {
      "application/vnd.jupyter.widget-view+json": {
       "model_id": "88e38e7043164cc2b3f472a9587095f0",
       "version_major": 2,
       "version_minor": 0
      },
      "text/plain": [
       "  0%|          | 0/50 [00:00<?, ?it/s]"
      ]
     },
     "metadata": {},
     "output_type": "display_data"
    },
    {
     "name": "stdout",
     "output_type": "stream",
     "text": [
      "Год=2019 Макс. Sharpe=0.1422, ret=0.0024, std=0.0140\n"
     ]
    },
    {
     "data": {
      "application/vnd.jupyter.widget-view+json": {
       "model_id": "f7ade64d79144a0c91822f2a8c46e6a9",
       "version_major": 2,
       "version_minor": 0
      },
      "text/plain": [
       "  0%|          | 0/50 [00:00<?, ?it/s]"
      ]
     },
     "metadata": {},
     "output_type": "display_data"
    },
    {
     "name": "stdout",
     "output_type": "stream",
     "text": [
      "Год=2020 Макс. Sharpe=0.1270, ret=0.0028, std=0.0191\n"
     ]
    },
    {
     "data": {
      "application/vnd.jupyter.widget-view+json": {
       "model_id": "47f6dfa1f87c4546b3fe9c9108a0267c",
       "version_major": 2,
       "version_minor": 0
      },
      "text/plain": [
       "  0%|          | 0/50 [00:00<?, ?it/s]"
      ]
     },
     "metadata": {},
     "output_type": "display_data"
    },
    {
     "name": "stdout",
     "output_type": "stream",
     "text": [
      "Год=2021 Макс. Sharpe=0.1311, ret=0.0025, std=0.0164\n"
     ]
    },
    {
     "data": {
      "application/vnd.jupyter.widget-view+json": {
       "model_id": "a04805417ab944eeb6afc5f81e5ac108",
       "version_major": 2,
       "version_minor": 0
      },
      "text/plain": [
       "  0%|          | 0/50 [00:00<?, ?it/s]"
      ]
     },
     "metadata": {},
     "output_type": "display_data"
    },
    {
     "name": "stdout",
     "output_type": "stream",
     "text": [
      "Год=2022 Макс. Sharpe=0.0289, ret=0.0010, std=0.0218\n"
     ]
    },
    {
     "data": {
      "application/vnd.jupyter.widget-view+json": {
       "model_id": "6e3349ef6cab4ef7a13cd7d4ac5c362d",
       "version_major": 2,
       "version_minor": 0
      },
      "text/plain": [
       "  0%|          | 0/50 [00:00<?, ?it/s]"
      ]
     },
     "metadata": {},
     "output_type": "display_data"
    },
    {
     "name": "stdout",
     "output_type": "stream",
     "text": [
      "Год=2023 Макс. Sharpe=0.1464, ret=0.0028, std=0.0162\n"
     ]
    },
    {
     "data": {
      "application/vnd.jupyter.widget-view+json": {
       "model_id": "3435388e9d254ef19c4973f22f045222",
       "version_major": 2,
       "version_minor": 0
      },
      "text/plain": [
       "  0%|          | 0/50 [00:00<?, ?it/s]"
      ]
     },
     "metadata": {},
     "output_type": "display_data"
    },
    {
     "name": "stdout",
     "output_type": "stream",
     "text": [
      "Год=2024 Макс. Sharpe=0.0720, ret=0.0016, std=0.0164\n",
      "GIF сохранён: frontier_years.gif\n"
     ]
    }
   ],
   "source": [
    "import numpy as np\n",
    "import pandas as pd\n",
    "import matplotlib.pyplot as plt\n",
    "import imageio\n",
    "import os\n",
    "\n",
    "\n",
    "def plot_efficient_frontier_curve(std_vals, ret_vals, label, ax, color='b'):\n",
    "    \"\"\" Утилита: рисует (std, ret) одной линии на заданном ax. \"\"\"\n",
    "    ax.plot(std_vals, ret_vals, marker='o', label=label, color=color)\n",
    "    ax.set_xlabel(\"Risk (std)\")\n",
    "    ax.set_ylabel(\"Expected Return\")\n",
    "    ax.legend(loc='best')\n",
    "    ax.grid(True)\n",
    "\n",
    "\n",
    "years = np.arange(2008, 2025, 1)  # пример\n",
    "\n",
    "\n",
    "all_risks = []\n",
    "all_returns = []\n",
    "\n",
    "for yr in years:\n",
    "    mask = date_data[date_data.dt.year == yr].index\n",
    "    data_year = return_data.loc[mask]\n",
    "    if data_year.empty:\n",
    "        continue\n",
    "\n",
    "\n",
    "    optim_temp = Optimizer(data_year)\n",
    "    frontier_temp = optim_temp.efficient_frontier_curve(n_point=50)\n",
    "\n",
    "\n",
    "    for (ret, std, _) in frontier_temp:\n",
    "        all_risks.append(std)\n",
    "        all_returns.append(ret)\n",
    "\n",
    "risk_min, risk_max = min(all_risks), max(all_risks)\n",
    "ret_min, ret_max = min(all_returns), max(all_returns)\n",
    "\n",
    "risk_pad = 0.02 * (risk_max - risk_min)\n",
    "ret_pad = 0.02 * (ret_max - ret_min)\n",
    "fixed_xmin = risk_min - risk_pad\n",
    "fixed_xmax = risk_max + risk_pad\n",
    "fixed_ymin = ret_min - ret_pad\n",
    "fixed_ymax = ret_max + ret_pad\n",
    "\n",
    "\n",
    "\n",
    "frames = []  \n",
    "w_old = None  \n",
    "r_f = 0.1 / 252  \n",
    "\n",
    "for i, yr in enumerate(years):\n",
    "    mask = date_data[date_data.dt.year == yr].index\n",
    "    data_year = return_data.loc[mask]\n",
    "\n",
    "    if data_year.empty:\n",
    "        print(f\"Нет данных за {yr}\")\n",
    "        continue\n",
    "\n",
    "    if i == 0:\n",
    "        optim = OptimizerIS(data_year, w_old=None, is_costs=None, alpha=0.0)\n",
    "    else:\n",
    "        optim = OptimizerIS(data_year, w_old=w_old, is_costs=np.ones(30)*0.1, alpha=0.01)\n",
    "\n",
    "    frontier = optim.efficient_frontier_curve_with_is(n_points=50)\n",
    "\n",
    "    # Выбираем точку с макс. Sharpe\n",
    "    best_sharpe = -np.inf\n",
    "    best_point = None\n",
    "    for (ret, std, w) in frontier:\n",
    "        if std > 0:\n",
    "            sharpe = (ret - r_f)/std\n",
    "            if sharpe > best_sharpe:\n",
    "                best_sharpe = sharpe\n",
    "                best_point = (ret, std, w)\n",
    "\n",
    "    if best_point is not None:\n",
    "        print(f\"Год={yr} Макс. Sharpe={best_sharpe:.4f}, ret={best_point[0]:.4f}, std={best_point[1]:.4f}\")\n",
    "        # Обновляем w_old\n",
    "        w_old = best_point[2]\n",
    "    else:\n",
    "        print(f\"Год={yr}: Не удалось найти портфель (?)\")\n",
    "\n",
    "    fig, ax = plt.subplots(figsize=(8,8))\n",
    "\n",
    "    ret_vals = [x[0] for x in frontier]\n",
    "    std_vals = [x[1] for x in frontier]\n",
    "    plot_efficient_frontier_curve(std_vals, ret_vals, label=f'{yr}', ax=ax)\n",
    "\n",
    "    if best_point is not None:\n",
    "        ax.scatter(best_point[1], best_point[0], c='r', s=80, marker='x', label='Max Sharpe')\n",
    "        ax.legend()\n",
    "\n",
    "    ax.set_xlim(fixed_xmin, fixed_xmax)\n",
    "    ax.set_ylim(fixed_ymin, fixed_ymax)\n",
    "    ax.set_title(f\"Efficient Frontier with IS: year={yr}\")\n",
    "\n",
    "    fname = f\"frontier_{yr}.png\"\n",
    "    plt.savefig(fname, dpi=100, bbox_inches='tight')\n",
    "    plt.close(fig)\n",
    "\n",
    "    frames.append(fname)\n",
    "\n",
    "images = []\n",
    "for fn in frames:\n",
    "    img = imageio.v2.imread(fn)\n",
    "    images.append(img)\n",
    "\n",
    "imageio.mimsave('frontier_years.gif', images, fps=1)  "
   ]
  },
  {
   "cell_type": "code",
   "execution_count": null,
   "metadata": {},
   "outputs": [],
   "source": []
  }
 ],
 "metadata": {
  "kernelspec": {
   "display_name": ".venv",
   "language": "python",
   "name": "python3"
  },
  "language_info": {
   "codemirror_mode": {
    "name": "ipython",
    "version": 3
   },
   "file_extension": ".py",
   "mimetype": "text/x-python",
   "name": "python",
   "nbconvert_exporter": "python",
   "pygments_lexer": "ipython3",
   "version": "3.9.6"
  }
 },
 "nbformat": 4,
 "nbformat_minor": 2
}
